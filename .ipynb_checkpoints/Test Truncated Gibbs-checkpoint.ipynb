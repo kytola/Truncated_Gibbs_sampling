{
 "cells": [
  {
   "cell_type": "code",
   "execution_count": 1,
   "metadata": {},
   "outputs": [],
   "source": [
    "import numpy as np\n",
    "import matplotlib.pyplot as plt\n",
    "\n",
    "# Import my Gibbs Sampling functions\n",
    "from Gibbs_function import conditional_samp_trunc, trunc_gibbs_sampler"
   ]
  },
  {
   "cell_type": "code",
   "execution_count": 2,
   "metadata": {},
   "outputs": [],
   "source": [
    "N_vars = 3\n",
    "my_means = np.zeros(N_vars)\n",
    "my_vars = np.array([45, 5, 10])\n",
    "\n",
    "# Standard uniform sim draws, neccesary for simulation of truncated normals\n",
    "N_sims = 500\n",
    "my_draws = np.random.uniform(0,1, (N_sims, 3))\n",
    "\n",
    "# Setup upper and lower bounds for truncation draws\n",
    "low_bound =  np.array([-5, -85, -300, 15, 25])\n",
    "high_bound = np.array([0, -50, -200, 30, 100])"
   ]
  },
  {
   "cell_type": "code",
   "execution_count": 3,
   "metadata": {},
   "outputs": [
    {
     "name": "stdout",
     "output_type": "stream",
     "text": [
      "Variance-covariance matrix:\n",
      "[[200.   0.   0.]\n",
      " [  0.  25.   0.]\n",
      " [  0.   0. 100.]]\n"
     ]
    }
   ],
   "source": [
    "cov = np.zeros((N_vars, N_vars))\n",
    "np.fill_diagonal(cov, np.array([200, 25, 100]))\n",
    "print(\"Variance-covariance matrix:\")\n",
    "print(cov)"
   ]
  },
  {
   "cell_type": "code",
   "execution_count": 4,
   "metadata": {},
   "outputs": [],
   "source": [
    "# Set up an example x matrix\n",
    "\n",
    "first = np.array([[-30, -2,10],\n",
    "                  [5, 1, 5],\n",
    "                  [10, 0,1]])\n",
    "\n",
    "sec = np.array([[-100, -75,-25],\n",
    "                  [-4, 5, 5],\n",
    "                  [4, 3, 15]])\n",
    "\n",
    "third = np.array([[-300, -100,1],\n",
    "                  [-5, -10, -50],\n",
    "                  [-10, -15,0.3]])\n",
    "\n",
    "fourth = np.array([[1, -5, 15],\n",
    "                  [1, 20, 17],\n",
    "                  [1.2, 3, 5]])\n",
    "\n",
    "fifth = np.array([[-30, -2,10],\n",
    "                  [5, 1, 5],\n",
    "                  [10, 0,1]])\n",
    "\n",
    "large_sample_start_x = np.stack([first, sec, third, fourth, fifth])"
   ]
  },
  {
   "cell_type": "code",
   "execution_count": 6,
   "metadata": {},
   "outputs": [],
   "source": [
    "sim_draws = trunc_gibbs_sampler(large_sample_start_x,\n",
    "                    my_means, cov,\n",
    "                    low_bound, high_bound, my_draws)\n",
    "\n",
    "# Drop the 'initial' draw \n",
    "sim_draws = draws[:,1:,:,:]"
   ]
  },
  {
   "cell_type": "code",
   "execution_count": 8,
   "metadata": {},
   "outputs": [],
   "source": []
  },
  {
   "cell_type": "code",
   "execution_count": 11,
   "metadata": {},
   "outputs": [
    {
     "data": {
      "image/png": "[encoded data removed]",
      "text/plain": [
       "<Figure size 432x288 with 1 Axes>"
      ]
     },
     "metadata": {
      "needs_background": "light"
     },
     "output_type": "display_data"
    }
   ],
   "source": [
    "plt.hist(sim_draws[4, :, 0, 0], label='Low type', alpha=0.6, density=True)\n",
    "plt.hist(sim_draws[4, :, 0, 1], label='Medium type', alpha=0.6, density=True)\n",
    "plt.hist(sim_draws[4, :, 0, 2], label='High type', alpha=0.6, density=True)\n",
    "\n",
    "plt.title(\"Simmed variable 1 given type\")\n",
    "plt.legend()\n",
    "plt.show()"
   ]
  },
  {
   "cell_type": "code",
   "execution_count": null,
   "metadata": {},
   "outputs": [],
   "source": [
    "plt.hist(sim_draws[4, :, 1, 0], label='Low type', alpha=0.6, density=True)\n",
    "plt.hist(sim_draws[4, :, 1, 1], label='Medium type', alpha=0.6, density=True)\n",
    "plt.hist(sim_draws[4, :, 1, 2], label='High type', alpha=0.6, density=True)\n",
    "\n",
    "plt.title(\"Simmed variable 1 given type\")\n",
    "plt.legend()\n",
    "plt.show()"
   ]
  }
 ],
 "metadata": {
  "kernelspec": {
   "display_name": "Python 3",
   "language": "python",
   "name": "python3"
  },
  "language_info": {
   "codemirror_mode": {
    "name": "ipython",
    "version": 3
   },
   "file_extension": ".py",
   "mimetype": "text/x-python",
   "name": "python",
   "nbconvert_exporter": "python",
   "pygments_lexer": "ipython3",
   "version": "3.6.8"
  }
 },
 "nbformat": 4,
 "nbformat_minor": 4
}
