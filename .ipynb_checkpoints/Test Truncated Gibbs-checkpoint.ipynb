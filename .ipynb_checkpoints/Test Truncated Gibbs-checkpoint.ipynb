{
 "cells": [
  {
   "cell_type": "markdown",
   "metadata": {},
   "source": [
    "# Truncated simulation with Gibbs Sampling\n",
    "\n",
    "## Author: Lauri Kytömaa\n",
    "## Date created: April 8, 2022\n",
    "\n",
    "In this Jupyter Notebook I use Gibbs Sampling to draw simulation draws from truncated distributions.\n",
    " \n",
    "I assume an environment in which individuals $i \\in [1, \\dots, N]$ take draws from three independent normal variables:\n",
    "* $\\alpha_i \\sim N(0,\\sigma_\\xi)$ \n",
    "* $\\beta_i \\sim N(0,\\sigma_\\varepsilon)$ \n",
    "* $\\gamma_i \\sim N(0,\\sigma_\\rho)$ \n",
    "\n",
    "With $\\alpha_i \\perp \\beta_i \\perp \\gamma_i \\quad \\forall i$\n",
    "\n",
    "Though these variable draws are independent, I'm going to also assume that borrowers could be of one of three types: low, medium or high. So each individual $i$ can be mapped into a type $\\tau(i) \\in \\{Low, Medium, High\\}$. Types are defined by how the sum of the three variables relates to two particular cutoffs: $\\underline{C}, \\bar{C}$. Explicity:\n",
    "* **Low-type** consumer: $\\alpha_i + \\beta_i + \\gamma_i \\leq \\underline{C}$\n",
    "* **Medium-type** consumer: $\\underline{C} < \\alpha_i + \\beta_i + \\gamma_i \\leq \\bar{C}$\n",
    "* **High-type** consumer: $\\bar{C} < \\alpha_i + \\beta_i + \\gamma_i$\n",
    "\n",
    "This is where Gibbs Sampling comes in: I may want to draw $\\alpha_i, \\beta_i, \\gamma_i$ draws *conditional on type*. If we want to say that an individual is a given type and then want to take simulation draws, we will no longer be able to draw variables independently. The code below allows an interested statistician to take draws of $\\alpha_i, \\beta_i, \\gamma_i$ when conditioning on an individual's type. In the code below, I allow the cutoffs to also depend on the individual so they will also have an $i$ subscript: $\\underline{C}_i, \\bar{C}_i$.\n",
    "\n",
    "The structure of the Python functions used below is based on a GitHub repository by Rishabh Gupta (https://github.com/mr-easy/Gibbs-Sampling-Visualized) but has been adapted for truncation based on cutoffs."
   ]
  },
  {
   "cell_type": "code",
   "execution_count": 1,
   "metadata": {},
   "outputs": [],
   "source": [
    "import numpy as np\n",
    "from scipy.stats import norm\n",
    "import matplotlib.pyplot as plt\n",
    "import sys\n",
    "\n",
    "# Import my Gibbs Sampling functions\n",
    "from Gibbs_function import conditional_samp_trunc, trunc_gibbs_sampler"
   ]
  },
  {
   "cell_type": "code",
   "execution_count": 2,
   "metadata": {},
   "outputs": [],
   "source": [
    "N_vars = 3\n",
    "my_means = np.zeros(N_vars)\n",
    "my_vars = np.array([45, 5, 10])\n",
    "\n",
    "# Standard uniform sim draws, neccesary for simulation of truncated normals\n",
    "N_sims = 2_000\n",
    "my_draws = np.random.uniform(0,1, (N_sims, 3))\n",
    "\n",
    "# Setup upper and lower bounds for truncation draws\n",
    "low_bound =  np.array([-5, -85, -300, 15, 25])\n",
    "high_bound = np.array([0, -50, -200, 30, 100])"
   ]
  },
  {
   "cell_type": "code",
   "execution_count": 3,
   "metadata": {},
   "outputs": [
    {
     "name": "stdout",
     "output_type": "stream",
     "text": [
      "Variance-covariance matrix:\n",
      "[[200.   0.   0.]\n",
      " [  0.  25.   0.]\n",
      " [  0.   0. 100.]]\n"
     ]
    }
   ],
   "source": [
    "cov = np.zeros((N_vars, N_vars))\n",
    "np.fill_diagonal(cov, np.array([200, 25, 100]))\n",
    "print(\"Variance-covariance matrix:\")\n",
    "print(cov)"
   ]
  },
  {
   "cell_type": "code",
   "execution_count": 4,
   "metadata": {},
   "outputs": [],
   "source": [
    "# Set up an example x matrix\n",
    "\n",
    "first = np.array([[-30, -2,10],\n",
    "                  [5, 1, 5],\n",
    "                  [10, 0,1]])\n",
    "\n",
    "sec = np.array([[-100, -75,-25],\n",
    "                  [-4, 5, 5],\n",
    "                  [4, 3, 15]])\n",
    "\n",
    "third = np.array([[-300, -100,1],\n",
    "                  [-5, -10, -50],\n",
    "                  [-10, -15,0.3]])\n",
    "\n",
    "fourth = np.array([[1, -5, 15],\n",
    "                  [1, 20, 17],\n",
    "                  [1.2, 3, 5]])\n",
    "\n",
    "fifth = np.array([[-30, -2,10],\n",
    "                  [5, 1, 5],\n",
    "                  [10, 0,1]])\n",
    "\n",
    "large_sample_start_x = np.stack([first, sec, third, fourth, fifth])"
   ]
  },
  {
   "cell_type": "code",
   "execution_count": 5,
   "metadata": {},
   "outputs": [],
   "source": [
    "sim_draws = trunc_gibbs_sampler(large_sample_start_x,\n",
    "                    my_means, cov,\n",
    "                    low_bound, high_bound, my_draws)\n",
    "\n",
    "# Drop the 'initial' draw \n",
    "sim_draws = sim_draws[:,1:,:,:]"
   ]
  },
  {
   "cell_type": "code",
   "execution_count": 6,
   "metadata": {},
   "outputs": [
    {
     "data": {
      "image/png": "[encoded data removed]",
      "text/plain": [
       "<Figure size 432x288 with 1 Axes>"
      ]
     },
     "metadata": {
      "needs_background": "light"
     },
     "output_type": "display_data"
    }
   ],
   "source": [
    "plt.hist(sim_draws[4, :, 0, 0], label='Low type', alpha=0.6, density=True)\n",
    "plt.hist(sim_draws[4, :, 0, 1], label='Medium type', alpha=0.6, density=True)\n",
    "plt.hist(sim_draws[4, :, 0, 2], label='High type', alpha=0.6, density=True)\n",
    "\n",
    "plt.title(\"Simmed variable \" + r'$\\alpha_i$' + \" given type\")\n",
    "plt.legend()\n",
    "plt.show()"
   ]
  },
  {
   "cell_type": "code",
   "execution_count": 7,
   "metadata": {},
   "outputs": [
    {
     "data": {
      "image/png": "[encoded data removed]",
      "text/plain": [
       "<Figure size 432x288 with 1 Axes>"
      ]
     },
     "metadata": {
      "needs_background": "light"
     },
     "output_type": "display_data"
    }
   ],
   "source": [
    "plt.hist(sim_draws[4, :, 1, 0], label='Low type', alpha=0.6, density=True)\n",
    "plt.hist(sim_draws[4, :, 1, 1], label='Medium type', alpha=0.6, density=True)\n",
    "plt.hist(sim_draws[4, :, 1, 2], label='High type', alpha=0.6, density=True)\n",
    "\n",
    "plt.title(\"Simmed variable \" + r'$\\beta_i$' + \" given type\")\n",
    "plt.legend()\n",
    "plt.show()"
   ]
  },
  {
   "cell_type": "code",
   "execution_count": 8,
   "metadata": {},
   "outputs": [
    {
     "data": {
      "image/png": "[encoded data removed]",
      "text/plain": [
       "<Figure size 432x288 with 1 Axes>"
      ]
     },
     "metadata": {
      "needs_background": "light"
     },
     "output_type": "display_data"
    }
   ],
   "source": [
    "plt.hist(sim_draws[4, :, 2, 0], label='Low type', alpha=0.6, density=True)\n",
    "plt.hist(sim_draws[4, :, 2, 1], label='Medium type', alpha=0.6, density=True)\n",
    "plt.hist(sim_draws[4, :, 2, 2], label='High type', alpha=0.6, density=True)\n",
    "\n",
    "plt.title(\"Simmed variable \" + r'$\\gamma_i$' + \" given type\")\n",
    "plt.legend()\n",
    "plt.show()"
   ]
  },
  {
   "cell_type": "code",
   "execution_count": 9,
   "metadata": {},
   "outputs": [
    {
     "data": {
      "image/png": "[encoded data removed]",
      "text/plain": [
       "<Figure size 432x288 with 1 Axes>"
      ]
     },
     "metadata": {
      "needs_background": "light"
     },
     "output_type": "display_data"
    }
   ],
   "source": [
    "cutoff_ind = 4\n",
    "\n",
    "plt.hist(sim_draws[cutoff_ind, :, :, 0].sum(axis=1), bins=50, label='low type',alpha=0.5, density=True)\n",
    "plt.hist(sim_draws[cutoff_ind, :, :, 1].sum(axis=1), bins=50, label='medium type', density=True)\n",
    "plt.hist(sim_draws[cutoff_ind, :, :, 2].sum(axis=1), bins=50, label='high type', alpha=0.5, density=True)\n",
    "\n",
    "plt.title(\"Distribution of the sum of variables, by borrower type\")\n",
    "plt.legend()\n",
    "plt.show()"
   ]
  },
  {
   "cell_type": "markdown",
   "metadata": {},
   "source": [
    "# Note on burn-in\n",
    "A research may worry about the influence of the initial point value on the truncated draws that are taken. It is sometimes recommended to \"burn in\" initial simulation draws to allow for converge to the true density. In practice, this means discarding the first set of $B$ draws and then using the outstanding ones to calculate probabilities.\n",
    "\n",
    "Below, I separately visualize the distributions of the first 1,000 draws and second 1,000 draws. In practice, they seem similar."
   ]
  },
  {
   "cell_type": "code",
   "execution_count": 10,
   "metadata": {},
   "outputs": [
    {
     "data": {
      "image/png": "[encoded data removed]",
      "text/plain": [
       "<Figure size 432x288 with 1 Axes>"
      ]
     },
     "metadata": {
      "needs_background": "light"
     },
     "output_type": "display_data"
    },
    {
     "data": {
      "image/png": "[encoded data removed]",
      "text/plain": [
       "<Figure size 432x288 with 1 Axes>"
      ]
     },
     "metadata": {
      "needs_background": "light"
     },
     "output_type": "display_data"
    },
    {
     "data": {
      "image/png": "[encoded data removed]",
      "text/plain": [
       "<Figure size 432x288 with 1 Axes>"
      ]
     },
     "metadata": {
      "needs_background": "light"
     },
     "output_type": "display_data"
    }
   ],
   "source": [
    "titles = ['low type', 'medium type', 'high type']\n",
    "\n",
    "for TYPE_IND in range(3):\n",
    "    plt.hist(sim_draws[2,0:1_000, 0:,TYPE_IND].sum(axis=1), alpha=0.7, label='first 1,000', density=True)\n",
    "    plt.hist(sim_draws[2,1_000:2000, 0:,TYPE_IND].sum(axis=1), alpha=0.7, label='last 1,000', density=True)\n",
    "    plt.title(\"Comparing distribution of Gibbs Sampler draws for \" + titles[TYPE_IND])\n",
    "    plt.legend()\n",
    "    plt.show()"
   ]
  },
  {
   "cell_type": "markdown",
   "metadata": {},
   "source": [
    "# Speed testing\n",
    "\n",
    "The base function tends to be a little slow, in this section I implement a Numba version of the code that takes advantage of loop-jitting.\n",
    "\n",
    "See: http://numba.pydata.org/numba-doc/0.17.0/glossary.html#term-loop-jitting"
   ]
  },
  {
   "cell_type": "code",
   "execution_count": 11,
   "metadata": {},
   "outputs": [],
   "source": [
    "from time import perf_counter as my_timer"
   ]
  },
  {
   "cell_type": "markdown",
   "metadata": {},
   "source": [
    "## (a). Base version"
   ]
  },
  {
   "cell_type": "code",
   "execution_count": 12,
   "metadata": {},
   "outputs": [],
   "source": [
    "draws_test = my_draws[:100,:]\n",
    "my_reps = 500"
   ]
  },
  {
   "cell_type": "code",
   "execution_count": 13,
   "metadata": {},
   "outputs": [
    {
     "name": "stdout",
     "output_type": "stream",
     "text": [
      "Total run time:\n",
      "145.62070638199998\n",
      "Average seconds to run once:\n",
      "0.29124141276399995\n"
     ]
    }
   ],
   "source": [
    "start = my_timer()\n",
    "\n",
    "for k in range(my_reps):\n",
    "\n",
    "    sim_draws = trunc_gibbs_sampler(large_sample_start_x,\n",
    "                        my_means, cov,\n",
    "                        low_bound, high_bound, draws_test)\n",
    "    \n",
    "total_time = my_timer() - start    \n",
    "\n",
    "print(\"Total run time:\")\n",
    "print(total_time)\n",
    "print(\"Average seconds to run once:\")\n",
    "print(total_time/my_reps)"
   ]
  },
  {
   "cell_type": "markdown",
   "metadata": {},
   "source": [
    "## (b). Numba version"
   ]
  },
  {
   "cell_type": "code",
   "execution_count": 14,
   "metadata": {},
   "outputs": [],
   "source": [
    "import Gibbs_function_numba\n",
    "\n",
    "# For re-loading the function, helpful if I'm testing changes\n",
    "\n",
    "# import importlib\n",
    "# importlib.reload(Gibbs_function_numba)"
   ]
  },
  {
   "cell_type": "code",
   "execution_count": 15,
   "metadata": {},
   "outputs": [
    {
     "name": "stdout",
     "output_type": "stream",
     "text": [
      "[-0.52440051 -0.52440051 -0.2533471   1.28155157 -2.32634787  2.32634787] [-0.52440051 -0.52440051 -0.2533471   1.28155157 -2.32634787  2.32634787]\n",
      "[0.61791142 0.61791142 0.65542174 0.81593987 0.50398936 0.83891294] [0.61791142 0.61791142 0.65542174 0.81593987 0.50398936 0.83891294]\n"
     ]
    }
   ],
   "source": [
    "num_arr = np.array([.3, 0.3, 0.4, 0.9, 0.01, 0.99])\n",
    "\n",
    "print(norm.ppf(num_arr, 0, 1), Gibbs_function_numba.ppf_no_stats(num_arr, 0, 1))\n",
    "print(norm.cdf(num_arr, 0, 1), Gibbs_function_numba.cdf_no_stats(num_arr, 0, 1))"
   ]
  },
  {
   "cell_type": "code",
   "execution_count": 16,
   "metadata": {},
   "outputs": [
    {
     "name": "stdout",
     "output_type": "stream",
     "text": [
      "Total run time:\n",
      "24.341656408999995\n",
      "Average seconds to run once:\n",
      "0.048683312817999994\n"
     ]
    }
   ],
   "source": [
    "start = my_timer()\n",
    "\n",
    "for k in range(my_reps):\n",
    "\n",
    "    sim_draws2 = Gibbs_function_numba.trunc_gibbs_sampler(large_sample_start_x,\n",
    "                        my_means, cov,\n",
    "                        low_bound, high_bound, draws_test)\n",
    "    \n",
    "total_time2 = my_timer() - start    \n",
    "\n",
    "print(\"Total run time:\")\n",
    "print(total_time2)\n",
    "print(\"Average seconds to run once:\")\n",
    "print(total_time2/my_reps)"
   ]
  },
  {
   "cell_type": "code",
   "execution_count": 17,
   "metadata": {},
   "outputs": [
    {
     "name": "stdout",
     "output_type": "stream",
     "text": [
      "Speed up facor:\n",
      "5.982366357293529\n"
     ]
    }
   ],
   "source": [
    "print(\"Speed up facor:\")\n",
    "print(total_time/total_time2)"
   ]
  },
  {
   "cell_type": "markdown",
   "metadata": {},
   "source": [
    "## Confirm that two approaches yield same object"
   ]
  },
  {
   "cell_type": "code",
   "execution_count": 18,
   "metadata": {},
   "outputs": [
    {
     "data": {
      "text/plain": [
       "((5, 101, 3, 3), (5, 101, 3, 3))"
      ]
     },
     "execution_count": 18,
     "metadata": {},
     "output_type": "execute_result"
    }
   ],
   "source": [
    "# Check dims\n",
    "sim_draws.shape, sim_draws2.shape"
   ]
  },
  {
   "cell_type": "code",
   "execution_count": 19,
   "metadata": {},
   "outputs": [
    {
     "data": {
      "text/plain": [
       "(array([  1.        ,  33.3325026 ,  73.92769439,  52.14509487,\n",
       "        -99.2256971 ]),\n",
       " array([  1.        ,  33.3325026 ,  73.92769439,  52.14509487,\n",
       "        -99.2256971 ]))"
      ]
     },
     "execution_count": 19,
     "metadata": {},
     "output_type": "execute_result"
    }
   ],
   "source": [
    "# Check array ad-hoc\n",
    "sim_draws[0, 0:5, 2, 2], sim_draws2[0, 0:5, 2, 2]"
   ]
  },
  {
   "cell_type": "code",
   "execution_count": 20,
   "metadata": {},
   "outputs": [
    {
     "name": "stdout",
     "output_type": "stream",
     "text": [
      "-14.242503675926429 -14.242503675926429\n",
      "118.79993300231884 118.79993300231885\n",
      "-0.7223047232833795 -0.7223047232833795\n"
     ]
    }
   ],
   "source": [
    "# Check mean, std and median \n",
    "print(sim_draws.mean(), sim_draws2.mean())\n",
    "print(sim_draws.std(), sim_draws2.std())\n",
    "print(np.quantile(sim_draws, 0.5), np.quantile(sim_draws2, 0.5))"
   ]
  }
 ],
 "metadata": {
  "kernelspec": {
   "display_name": "Python 3 (ipykernel)",
   "language": "python",
   "name": "python3"
  },
  "language_info": {
   "codemirror_mode": {
    "name": "ipython",
    "version": 3
   },
   "file_extension": ".py",
   "mimetype": "text/x-python",
   "name": "python",
   "nbconvert_exporter": "python",
   "pygments_lexer": "ipython3",
   "version": "3.9.7"
  }
 },
 "nbformat": 4,
 "nbformat_minor": 4
}
