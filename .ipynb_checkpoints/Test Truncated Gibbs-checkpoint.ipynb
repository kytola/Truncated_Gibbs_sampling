{
 "cells": [
  {
   "cell_type": "markdown",
   "metadata": {},
   "source": [
    "# Truncated simulation with Gibbs Sampling\n",
    "\n",
    "## Author: Lauri Kytömaa\n",
    "## Date created: April 8, 2022\n",
    "\n",
    "In this Jupyter Notebook I use Gibbs Sampling to draw simulation draws from truncated distributions.\n",
    " \n",
    "I assume an environment in which individuals $i \\in [1, \\dots, N]$ take draws from three independent normal variables:\n",
    "* $\\alpha_i \\sim N(0,\\sigma_\\xi)$ \n",
    "* $\\beta_i \\sim N(0,\\sigma_\\varepsilon)$ \n",
    "* $\\gamma_i \\sim N(0,\\sigma_\\rho)$ \n",
    "\n",
    "With $\\alpha_i \\perp \\beta_i \\perp \\gamma_i \\quad \\forall i$\n",
    "\n",
    "Though these variable draws are independent, I'm going to also assume that borrowers could be of one of three types: low, medium or high. So each individual $i$ can be mapped into a type $\\tau(i) \\in \\{Low, Medium, High\\}$. Types are defined by how the sum of the three variables relates to two particular cutoffs: $\\underline{C}, \\bar{C}$. Explicity:\n",
    "* **Low-type** consumer: $\\alpha_i + \\beta_i + \\gamma_i \\leq \\underline{C}$\n",
    "* **Medium-type** consumer: $\\underline{C} < \\alpha_i + \\beta_i + \\gamma_i \\leq \\bar{C}$\n",
    "* **Low-type** consumer: $\\bar{C} < \\alpha_i + \\beta_i + \\gamma_i$\n",
    "\n",
    "This is where Gibbs Sampling comes in: I may want to draw $\\alpha_i, \\beta_i, \\gamma_i$ draws *conditional on type*. If we want to say that an individual is a given type and then want to take simulation draws, we will no longer be able to draw variables independently. The code below allows an interested statistician to take draws of $\\alpha_i, \\beta_i, \\gamma_i$ when conditioning on an individuals type. \n",
    "\n",
    "The structure of the Python functions used below is based on a GitHub repository by Rishabh Gupta (https://github.com/mr-easy/Gibbs-Sampling-Visualized) but has been adapted for truncation based on cutoffs."
   ]
  },
  {
   "cell_type": "code",
   "execution_count": 1,
   "metadata": {},
   "outputs": [],
   "source": [
    "import numpy as np\n",
    "import matplotlib.pyplot as plt\n",
    "import sys\n",
    "# Import my Gibbs Sampling functions\n",
    "from Gibbs_function import conditional_samp_trunc, trunc_gibbs_sampler"
   ]
  },
  {
   "cell_type": "code",
   "execution_count": 2,
   "metadata": {},
   "outputs": [],
   "source": [
    "N_vars = 3\n",
    "my_means = np.zeros(N_vars)\n",
    "my_vars = np.array([45, 5, 10])\n",
    "\n",
    "# Standard uniform sim draws, neccesary for simulation of truncated normals\n",
    "N_sims = 1_000\n",
    "my_draws = np.random.uniform(0,1, (N_sims, 3))\n",
    "\n",
    "# Setup upper and lower bounds for truncation draws\n",
    "low_bound =  np.array([-5, -85, -300, 15, 25])\n",
    "high_bound = np.array([0, -50, -200, 30, 100])"
   ]
  },
  {
   "cell_type": "code",
   "execution_count": 3,
   "metadata": {},
   "outputs": [
    {
     "name": "stdout",
     "output_type": "stream",
     "text": [
      "Variance-covariance matrix:\n",
      "[[200.   0.   0.]\n",
      " [  0.  25.   0.]\n",
      " [  0.   0. 100.]]\n"
     ]
    }
   ],
   "source": [
    "cov = np.zeros((N_vars, N_vars))\n",
    "np.fill_diagonal(cov, np.array([200, 25, 100]))\n",
    "print(\"Variance-covariance matrix:\")\n",
    "print(cov)"
   ]
  },
  {
   "cell_type": "code",
   "execution_count": 4,
   "metadata": {},
   "outputs": [],
   "source": [
    "# Set up an example x matrix\n",
    "\n",
    "first = np.array([[-30, -2,10],\n",
    "                  [5, 1, 5],\n",
    "                  [10, 0,1]])\n",
    "\n",
    "sec = np.array([[-100, -75,-25],\n",
    "                  [-4, 5, 5],\n",
    "                  [4, 3, 15]])\n",
    "\n",
    "third = np.array([[-300, -100,1],\n",
    "                  [-5, -10, -50],\n",
    "                  [-10, -15,0.3]])\n",
    "\n",
    "fourth = np.array([[1, -5, 15],\n",
    "                  [1, 20, 17],\n",
    "                  [1.2, 3, 5]])\n",
    "\n",
    "fifth = np.array([[-30, -2,10],\n",
    "                  [5, 1, 5],\n",
    "                  [10, 0,1]])\n",
    "\n",
    "large_sample_start_x = np.stack([first, sec, third, fourth, fifth])"
   ]
  },
  {
   "cell_type": "code",
   "execution_count": 5,
   "metadata": {},
   "outputs": [],
   "source": [
    "sim_draws = trunc_gibbs_sampler(large_sample_start_x,\n",
    "                    my_means, cov,\n",
    "                    low_bound, high_bound, my_draws)\n",
    "\n",
    "# Drop the 'initial' draw \n",
    "sim_draws = sim_draws[:,1:,:,:]"
   ]
  },
  {
   "cell_type": "code",
   "execution_count": 6,
   "metadata": {},
   "outputs": [
    {
     "data": {
      "image/png": "[encoded data removed]",
      "text/plain": [
       "<Figure size 432x288 with 1 Axes>"
      ]
     },
     "metadata": {
      "needs_background": "light"
     },
     "output_type": "display_data"
    }
   ],
   "source": [
    "plt.hist(sim_draws[4, :, 0, 0], label='Low type', alpha=0.6, density=True)\n",
    "plt.hist(sim_draws[4, :, 0, 1], label='Medium type', alpha=0.6, density=True)\n",
    "plt.hist(sim_draws[4, :, 0, 2], label='High type', alpha=0.6, density=True)\n",
    "\n",
    "plt.title(\"Simmed variable \" + r'$\\alpha_i$' + \" given type\")\n",
    "plt.legend()\n",
    "plt.show()"
   ]
  },
  {
   "cell_type": "code",
   "execution_count": 7,
   "metadata": {},
   "outputs": [
    {
     "data": {
      "image/png": "[encoded data removed]",
      "text/plain": [
       "<Figure size 432x288 with 1 Axes>"
      ]
     },
     "metadata": {
      "needs_background": "light"
     },
     "output_type": "display_data"
    }
   ],
   "source": [
    "plt.hist(sim_draws[4, :, 1, 0], label='Low type', alpha=0.6, density=True)\n",
    "plt.hist(sim_draws[4, :, 1, 1], label='Medium type', alpha=0.6, density=True)\n",
    "plt.hist(sim_draws[4, :, 1, 2], label='High type', alpha=0.6, density=True)\n",
    "\n",
    "plt.title(\"Simmed variable \" + r'$\\beta_i$' + \" given type\")\n",
    "plt.legend()\n",
    "plt.show()"
   ]
  },
  {
   "cell_type": "code",
   "execution_count": 8,
   "metadata": {},
   "outputs": [
    {
     "data": {
      "image/png": "[encoded data removed]",
      "text/plain": [
       "<Figure size 432x288 with 1 Axes>"
      ]
     },
     "metadata": {
      "needs_background": "light"
     },
     "output_type": "display_data"
    }
   ],
   "source": [
    "plt.hist(sim_draws[4, :, 2, 0], label='Low type', alpha=0.6, density=True)\n",
    "plt.hist(sim_draws[4, :, 2, 1], label='Medium type', alpha=0.6, density=True)\n",
    "plt.hist(sim_draws[4, :, 2, 2], label='High type', alpha=0.6, density=True)\n",
    "\n",
    "plt.title(\"Simmed variable \" + r'$\\gamma_i$' + \" given type\")\n",
    "plt.legend()\n",
    "plt.show()"
   ]
  },
  {
   "cell_type": "code",
   "execution_count": 9,
   "metadata": {},
   "outputs": [
    {
     "data": {
      "image/png": "[encoded data removed]",
      "text/plain": [
       "<Figure size 432x288 with 1 Axes>"
      ]
     },
     "metadata": {
      "needs_background": "light"
     },
     "output_type": "display_data"
    }
   ],
   "source": [
    "cutoff_ind = 4\n",
    "\n",
    "plt.hist(sim_draws[cutoff_ind, :, :, 0].sum(axis=1), bins=50, label='low type',alpha=0.5, density=True)\n",
    "plt.hist(sim_draws[cutoff_ind, :, :, 1].sum(axis=1), bins=50, label='medium type', density=True)\n",
    "plt.hist(sim_draws[cutoff_ind, :, :, 2].sum(axis=1), bins=50, label='high type', alpha=0.5, density=True)\n",
    "\n",
    "plt.title(\"Distribution of the sum of variables, by borrower type\")\n",
    "plt.legend()\n",
    "plt.show()"
   ]
  },
  {
   "cell_type": "markdown",
   "metadata": {},
   "source": [
    "# Speed testing"
   ]
  },
  {
   "cell_type": "code",
   "execution_count": 10,
   "metadata": {},
   "outputs": [],
   "source": [
    "from time import perf_counter as my_timer"
   ]
  },
  {
   "cell_type": "markdown",
   "metadata": {},
   "source": [
    "## (a). Base version"
   ]
  },
  {
   "cell_type": "code",
   "execution_count": 11,
   "metadata": {},
   "outputs": [],
   "source": [
    "draws_test = my_draws[:100,:]\n",
    "my_reps = 500"
   ]
  },
  {
   "cell_type": "code",
   "execution_count": 12,
   "metadata": {},
   "outputs": [
    {
     "name": "stdout",
     "output_type": "stream",
     "text": [
      "Total run time:\n",
      "150.712557118\n",
      "Average seconds to run once:\n",
      "0.301425114236\n"
     ]
    }
   ],
   "source": [
    "start = my_timer()\n",
    "\n",
    "for k in range(my_reps):\n",
    "\n",
    "    sim_draws = trunc_gibbs_sampler(large_sample_start_x,\n",
    "                        my_means, cov,\n",
    "                        low_bound, high_bound, draws_test)\n",
    "    \n",
    "total_time = my_timer() - start    \n",
    "\n",
    "print(\"Total run time:\")\n",
    "print(total_time)\n",
    "print(\"Average seconds to run once:\")\n",
    "print(total_time/my_reps)"
   ]
  },
  {
   "cell_type": "markdown",
   "metadata": {},
   "source": [
    "## (b). Numba version"
   ]
  },
  {
   "cell_type": "code",
   "execution_count": 13,
   "metadata": {},
   "outputs": [],
   "source": [
    "import Gibbs_function_numba\n",
    "\n",
    "# For re-loading the function\n",
    "\n",
    "# import importlib\n",
    "# importlib.reload(Gibbs_function_numba)"
   ]
  },
  {
   "cell_type": "code",
   "execution_count": 14,
   "metadata": {},
   "outputs": [
    {
     "name": "stderr",
     "output_type": "stream",
     "text": [
      "/Users/Lauri/github/Truncated_Gibbs_sampling/Gibbs_function_numba.py:154: NumbaWarning: \u001b[1m\n",
      "Compilation is falling back to object mode WITH looplifting enabled because Function \"trunc_gibbs_sampler\" failed type inference due to: \u001b[1m\u001b[1m\u001b[1mNo implementation of function Function(<built-in function array>) found for signature:\n",
      " \n",
      " >>> array(array(float64, 3d, C))\n",
      " \n",
      "There are 4 candidate implementations:\n",
      "\u001b[1m  - Of which 4 did not match due to:\n",
      "  Overload in function '_OverloadWrapper._build.<locals>.ol_generated': File: numba/core/overload_glue.py: Line 131.\n",
      "    With argument(s): '(array(float64, 3d, C))':\u001b[0m\n",
      "\u001b[1m   Rejected as the implementation raised a specific error:\n",
      "     TypingError: Failed in nopython mode pipeline (step: nopython frontend)\n",
      "   \u001b[1m\u001b[1m\u001b[1mNo implementation of function Function(<intrinsic stub>) found for signature:\n",
      "    \n",
      "    >>> stub(array(float64, 3d, C))\n",
      "    \n",
      "   There are 2 candidate implementations:\n",
      "   \u001b[1m  - Of which 2 did not match due to:\n",
      "     Intrinsic in function 'stub': File: numba/core/overload_glue.py: Line 35.\n",
      "       With argument(s): '(array(float64, 3d, C))':\u001b[0m\n",
      "   \u001b[1m   Rejected as the implementation raised a specific error:\n",
      "        TypingError: \u001b[1marray(float64, 3d, C) not allowed in a homogeneous sequence\u001b[0m\u001b[0m\n",
      "     raised from /Users/Lauri/opt/anaconda3/lib/python3.9/site-packages/numba/core/typing/npydecl.py:487\n",
      "   \u001b[0m\n",
      "   \u001b[0m\u001b[1mDuring: resolving callee type: Function(<intrinsic stub>)\u001b[0m\n",
      "   \u001b[0m\u001b[1mDuring: typing of call at <string> (3)\n",
      "   \u001b[0m\n",
      "   \u001b[1m\n",
      "   File \"<string>\", line 3:\u001b[0m\n",
      "   \u001b[1m<source missing, REPL/exec in use?>\u001b[0m\n",
      "\u001b[0m\n",
      "  raised from /Users/Lauri/opt/anaconda3/lib/python3.9/site-packages/numba/core/typeinfer.py:1074\n",
      "\u001b[0m\n",
      "\u001b[0m\u001b[1mDuring: resolving callee type: Function(<built-in function array>)\u001b[0m\n",
      "\u001b[0m\u001b[1mDuring: typing of call at /Users/Lauri/github/Truncated_Gibbs_sampling/Gibbs_function_numba.py (160)\n",
      "\u001b[0m\n",
      "\u001b[1m\n",
      "File \"Gibbs_function_numba.py\", line 160:\u001b[0m\n",
      "\u001b[1mdef trunc_gibbs_sampler(initial_point, mean, cov,\n",
      "    <source elided>\n",
      "\n",
      "\u001b[1m    point = np.array(initial_point)\n",
      "\u001b[0m    \u001b[1m^\u001b[0m\u001b[0m\n",
      "\u001b[0m\n",
      "  @jit\n",
      "/Users/Lauri/github/Truncated_Gibbs_sampling/Gibbs_function_numba.py:154: NumbaWarning: \u001b[1m\n",
      "Compilation is falling back to object mode WITHOUT looplifting enabled because Function \"trunc_gibbs_sampler\" failed type inference due to: \u001b[1m\u001b[1mCannot determine Numba type of <class 'numba.core.dispatcher.LiftedLoop'>\u001b[0m\n",
      "\u001b[1m\n",
      "File \"Gibbs_function_numba.py\", line 172:\u001b[0m\n",
      "\u001b[1mdef trunc_gibbs_sampler(initial_point, mean, cov,\n",
      "    <source elided>\n",
      "\n",
      "\u001b[1m    for i in range(num_samples):\n",
      "\u001b[0m    \u001b[1m^\u001b[0m\u001b[0m\n",
      "\u001b[0m\u001b[0m\n",
      "  @jit\n",
      "/Users/Lauri/opt/anaconda3/lib/python3.9/site-packages/numba/core/object_mode_passes.py:151: NumbaWarning: \u001b[1mFunction \"trunc_gibbs_sampler\" was compiled in object mode without forceobj=True, but has lifted loops.\n",
      "\u001b[1m\n",
      "File \"Gibbs_function_numba.py\", line 158:\u001b[0m\n",
      "\u001b[1mdef trunc_gibbs_sampler(initial_point, mean, cov,\n",
      "    <source elided>\n",
      "\n",
      "\u001b[1m    num_samples = my_draws.shape[0]\n",
      "\u001b[0m    \u001b[1m^\u001b[0m\u001b[0m\n",
      "\u001b[0m\n",
      "  warnings.warn(errors.NumbaWarning(warn_msg,\n",
      "/Users/Lauri/opt/anaconda3/lib/python3.9/site-packages/numba/core/object_mode_passes.py:161: NumbaDeprecationWarning: \u001b[1m\n",
      "Fall-back from the nopython compilation path to the object mode compilation path has been detected, this is deprecated behaviour.\n",
      "\n",
      "For more information visit https://numba.pydata.org/numba-doc/latest/reference/deprecation.html#deprecation-of-object-mode-fall-back-behaviour-when-using-jit\n",
      "\u001b[1m\n",
      "File \"Gibbs_function_numba.py\", line 158:\u001b[0m\n",
      "\u001b[1mdef trunc_gibbs_sampler(initial_point, mean, cov,\n",
      "    <source elided>\n",
      "\n",
      "\u001b[1m    num_samples = my_draws.shape[0]\n",
      "\u001b[0m    \u001b[1m^\u001b[0m\u001b[0m\n",
      "\u001b[0m\n",
      "  warnings.warn(errors.NumbaDeprecationWarning(msg,\n",
      "/Users/Lauri/github/Truncated_Gibbs_sampling/Gibbs_function_numba.py:154: NumbaWarning: \u001b[1m\n",
      "Compilation is falling back to object mode WITHOUT looplifting enabled because Function \"trunc_gibbs_sampler\" failed type inference due to: \u001b[1m\u001b[1m\u001b[1mInvalid use of type(CPUDispatcher(<function conditional_samp_trunc at 0x7f82c674a280>)) with parameters (Literal[int](0), array(float64, 3d, C), array(float64, 1d, C), array(float64, 2d, C), array(int64, 1d, C), array(int64, 1d, C), array(float64, 1d, C))\n",
      "\u001b[0m\n",
      "\u001b[0m\u001b[1mDuring: resolving callee type: type(CPUDispatcher(<function conditional_samp_trunc at 0x7f82c674a280>))\u001b[0m\n",
      "\u001b[0m\u001b[1mDuring: typing of call at /Users/Lauri/github/Truncated_Gibbs_sampling/Gibbs_function_numba.py (175)\n",
      "\u001b[0m\n",
      "\u001b[1m\n",
      "File \"Gibbs_function_numba.py\", line 175:\u001b[0m\n",
      "\u001b[1mdef trunc_gibbs_sampler(initial_point, mean, cov,\n",
      "    <source elided>\n",
      "        # Sample from p(x_0|x_1, x_2)\n",
      "\u001b[1m        point = conditional_samp_trunc(0, point, mean, cov,\n",
      "\u001b[0m        \u001b[1m^\u001b[0m\u001b[0m\n",
      "\u001b[0m\n",
      "  @jit\n",
      "/Users/Lauri/opt/anaconda3/lib/python3.9/site-packages/numba/core/object_mode_passes.py:151: NumbaWarning: \u001b[1mFunction \"trunc_gibbs_sampler\" was compiled in object mode without forceobj=True.\n",
      "\u001b[1m\n",
      "File \"Gibbs_function_numba.py\", line 172:\u001b[0m\n",
      "\u001b[1mdef trunc_gibbs_sampler(initial_point, mean, cov,\n",
      "    <source elided>\n",
      "\n",
      "\u001b[1m    for i in range(num_samples):\n",
      "\u001b[0m    \u001b[1m^\u001b[0m\u001b[0m\n",
      "\u001b[0m\n",
      "  warnings.warn(errors.NumbaWarning(warn_msg,\n",
      "/Users/Lauri/opt/anaconda3/lib/python3.9/site-packages/numba/core/object_mode_passes.py:161: NumbaDeprecationWarning: \u001b[1m\n",
      "Fall-back from the nopython compilation path to the object mode compilation path has been detected, this is deprecated behaviour.\n",
      "\n",
      "For more information visit https://numba.pydata.org/numba-doc/latest/reference/deprecation.html#deprecation-of-object-mode-fall-back-behaviour-when-using-jit\n",
      "\u001b[1m\n",
      "File \"Gibbs_function_numba.py\", line 172:\u001b[0m\n",
      "\u001b[1mdef trunc_gibbs_sampler(initial_point, mean, cov,\n",
      "    <source elided>\n",
      "\n",
      "\u001b[1m    for i in range(num_samples):\n",
      "\u001b[0m    \u001b[1m^\u001b[0m\u001b[0m\n",
      "\u001b[0m\n",
      "  warnings.warn(errors.NumbaDeprecationWarning(msg,\n",
      "/Users/Lauri/github/Truncated_Gibbs_sampling/Gibbs_function_numba.py:17: NumbaWarning: \u001b[1m\n",
      "Compilation is falling back to object mode WITH looplifting enabled because Function \"conditional_samp_trunc\" failed type inference due to: \u001b[1m\u001b[1m\u001b[1mInvalid use of type(CPUDispatcher(<function cdf_no_stats at 0x7f82c7b5bc10>)) with parameters (array(float64, 1d, C), float64, float64)\n",
      "\u001b[0m\n",
      "\u001b[0m\u001b[1mDuring: resolving callee type: type(CPUDispatcher(<function cdf_no_stats at 0x7f82c7b5bc10>))\u001b[0m\n",
      "\u001b[0m\u001b[1mDuring: typing of call at /Users/Lauri/github/Truncated_Gibbs_sampling/Gibbs_function_numba.py (82)\n",
      "\u001b[0m\n",
      "\u001b[1m\n",
      "File \"Gibbs_function_numba.py\", line 82:\u001b[0m\n",
      "\u001b[1mdef conditional_samp_trunc(sampling_index, current_x,\n",
      "    <source elided>\n",
      "\n",
      "\u001b[1m    ub_low = cdf_no_stats(cutoff_low,\n",
      "\u001b[0m    \u001b[1m^\u001b[0m\u001b[0m\n",
      "\u001b[0m\n",
      "  @jit\n",
      "/Users/Lauri/opt/anaconda3/lib/python3.9/site-packages/numba/core/object_mode_passes.py:151: NumbaWarning: \u001b[1mFunction \"conditional_samp_trunc\" was compiled in object mode without forceobj=True.\n",
      "\u001b[1m\n",
      "File \"Gibbs_function_numba.py\", line 18:\u001b[0m\n",
      "\u001b[1m@jit\n",
      "\u001b[1mdef conditional_samp_trunc(sampling_index, current_x,\n",
      "\u001b[0m\u001b[1m^\u001b[0m\u001b[0m\n",
      "\u001b[0m\n",
      "  warnings.warn(errors.NumbaWarning(warn_msg,\n",
      "/Users/Lauri/opt/anaconda3/lib/python3.9/site-packages/numba/core/object_mode_passes.py:161: NumbaDeprecationWarning: \u001b[1m\n",
      "Fall-back from the nopython compilation path to the object mode compilation path has been detected, this is deprecated behaviour.\n",
      "\n",
      "For more information visit https://numba.pydata.org/numba-doc/latest/reference/deprecation.html#deprecation-of-object-mode-fall-back-behaviour-when-using-jit\n",
      "\u001b[1m\n",
      "File \"Gibbs_function_numba.py\", line 18:\u001b[0m\n",
      "\u001b[1m@jit\n",
      "\u001b[1mdef conditional_samp_trunc(sampling_index, current_x,\n",
      "\u001b[0m\u001b[1m^\u001b[0m\u001b[0m\n",
      "\u001b[0m\n",
      "  warnings.warn(errors.NumbaDeprecationWarning(msg,\n",
      "/Users/Lauri/github/Truncated_Gibbs_sampling/Gibbs_function_numba.py:13: NumbaWarning: \u001b[1m\n",
      "Compilation is falling back to object mode WITH looplifting enabled because Function \"ppf_no_stats\" failed type inference due to: \u001b[1m\u001b[1m\u001b[1mNo implementation of function Function(<ufunc 'erfinv'>) found for signature:\n",
      " \n",
      " >>> erfinv(array(float64, 1d, C))\n",
      " \n",
      "There are 2 candidate implementations:\n",
      "\u001b[1m  - Of which 2 did not match due to:\n",
      "  Overload of function 'erfinv': File: numba_scipy/special/overloads.py: Line 9.\n",
      "    With argument(s): '(array(float64, 1d, C))':\u001b[0m\n",
      "\u001b[1m   No match.\u001b[0m\n",
      "\u001b[0m\n",
      "\u001b[0m\u001b[1mDuring: resolving callee type: Function(<ufunc 'erfinv'>)\u001b[0m\n",
      "\u001b[0m\u001b[1mDuring: typing of call at /Users/Lauri/github/Truncated_Gibbs_sampling/Gibbs_function_numba.py (15)\n",
      "\u001b[0m\n",
      "\u001b[1m\n",
      "File \"Gibbs_function_numba.py\", line 15:\u001b[0m\n",
      "\u001b[1mdef ppf_no_stats(x, mu, sig):\n",
      "\u001b[1m    return mu + sig*np.sqrt(2)*erfinv(2*x - 1)\n",
      "\u001b[0m    \u001b[1m^\u001b[0m\u001b[0m\n",
      "\u001b[0m\n",
      "  @jit\n",
      "/Users/Lauri/opt/anaconda3/lib/python3.9/site-packages/numba/core/object_mode_passes.py:151: NumbaWarning: \u001b[1mFunction \"ppf_no_stats\" was compiled in object mode without forceobj=True.\n",
      "\u001b[1m\n",
      "File \"Gibbs_function_numba.py\", line 14:\u001b[0m\n",
      "\u001b[1m@jit\n",
      "\u001b[1mdef ppf_no_stats(x, mu, sig):\n",
      "\u001b[0m\u001b[1m^\u001b[0m\u001b[0m\n",
      "\u001b[0m\n",
      "  warnings.warn(errors.NumbaWarning(warn_msg,\n",
      "/Users/Lauri/opt/anaconda3/lib/python3.9/site-packages/numba/core/object_mode_passes.py:161: NumbaDeprecationWarning: \u001b[1m\n",
      "Fall-back from the nopython compilation path to the object mode compilation path has been detected, this is deprecated behaviour.\n",
      "\n",
      "For more information visit https://numba.pydata.org/numba-doc/latest/reference/deprecation.html#deprecation-of-object-mode-fall-back-behaviour-when-using-jit\n",
      "\u001b[1m\n",
      "File \"Gibbs_function_numba.py\", line 14:\u001b[0m\n",
      "\u001b[1m@jit\n",
      "\u001b[1mdef ppf_no_stats(x, mu, sig):\n",
      "\u001b[0m\u001b[1m^\u001b[0m\u001b[0m\n",
      "\u001b[0m\n",
      "  warnings.warn(errors.NumbaDeprecationWarning(msg,\n"
     ]
    },
    {
     "name": "stdout",
     "output_type": "stream",
     "text": [
      "Total run time:\n",
      "29.24445166199999\n",
      "Average seconds to run once:\n",
      "0.058488903323999974\n"
     ]
    }
   ],
   "source": [
    "start = my_timer()\n",
    "\n",
    "for k in range(my_reps):\n",
    "\n",
    "    sim_draws2 = Gibbs_function_numba.trunc_gibbs_sampler(large_sample_start_x,\n",
    "                        my_means, cov,\n",
    "                        low_bound, high_bound, draws_test)\n",
    "    \n",
    "total_time = my_timer() - start    \n",
    "\n",
    "print(\"Total run time:\")\n",
    "print(total_time)\n",
    "print(\"Average seconds to run once:\")\n",
    "print(total_time/my_reps)"
   ]
  }
 ],
 "metadata": {
  "kernelspec": {
   "display_name": "Python 3 (ipykernel)",
   "language": "python",
   "name": "python3"
  },
  "language_info": {
   "codemirror_mode": {
    "name": "ipython",
    "version": 3
   },
   "file_extension": ".py",
   "mimetype": "text/x-python",
   "name": "python",
   "nbconvert_exporter": "python",
   "pygments_lexer": "ipython3",
   "version": "3.9.7"
  }
 },
 "nbformat": 4,
 "nbformat_minor": 4
}
